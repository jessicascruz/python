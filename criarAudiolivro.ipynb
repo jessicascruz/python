{
 "cells": [
  {
   "cell_type": "markdown",
   "metadata": {},
   "source": [
    "# Criar um audiobook"
   ]
  },
  {
   "cell_type": "code",
   "execution_count": null,
   "metadata": {},
   "outputs": [],
   "source": [
    "# !pip install gTTs"
   ]
  },
  {
   "cell_type": "code",
   "execution_count": null,
   "metadata": {},
   "outputs": [],
   "source": [
    "from gtts import gTTS\n",
    "import os\n",
    "\n",
    "texto = \"Boa, Jéssica! Você é uma pessoa incrível e merece tudo de bom na sua vida. Continue sempre assim, com esse sorriso lindo e essa energia contagiante!\"\n",
    "lingua = \"pt\"\n",
    "\n",
    "tts = gTTS(texto, lang=lingua, tld=\"com.br\")\n",
    "tts.save(\"arquivos/audio.mp3\")\n",
    "\n",
    "os.system('ffplay -autoexit -nodisp arquivos/audio.mp3')\n",
    "\n",
    "# O parâmetro -autoexit fará com que o programa seja encerrado automaticamente ao final da execução do áudio,\n",
    "# e o parâmetro –nodisp não exibirá a janela com o áudio sendo reproduzido."
   ]
  },
  {
   "cell_type": "code",
   "execution_count": null,
   "metadata": {},
   "outputs": [],
   "source": [
    "from gtts import gTTS\n",
    "import os\n",
    "\n",
    "text_file = 'arquivos/audiobook.txt'\n",
    "output_file = 'arquivos/audiobook.mp3'\n",
    "\n",
    "def create_audiobook(text_file, output_file):\n",
    "    with open(text_file, 'r', encoding='utf-8') as file:\n",
    "        text = file.read()\n",
    "\n",
    "    tts = gTTS(text, lang=lingua, tld=\"com.br\")\n",
    "    tts.save(output_file)\n",
    "\n",
    "    print(f\"Audiobook saved as {output_file}\")\n",
    "\n",
    "\n",
    "create_audiobook(text_file, output_file)\n",
    "os.system(f\"ffplay -autoexit -nodisp {output_file}\")\n"
   ]
  }
 ],
 "metadata": {
  "kernelspec": {
   "display_name": "Python 3",
   "language": "python",
   "name": "python3"
  },
  "language_info": {
   "codemirror_mode": {
    "name": "ipython",
    "version": 3
   },
   "file_extension": ".py",
   "mimetype": "text/x-python",
   "name": "python",
   "nbconvert_exporter": "python",
   "pygments_lexer": "ipython3",
   "version": "3.13.2"
  }
 },
 "nbformat": 4,
 "nbformat_minor": 2
}
