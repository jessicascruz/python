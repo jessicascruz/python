{
 "cells": [
  {
   "cell_type": "markdown",
   "metadata": {},
   "source": [
    "# Gerador de Dados Falsos"
   ]
  },
  {
   "cell_type": "code",
   "execution_count": null,
   "metadata": {},
   "outputs": [],
   "source": [
    "# pip install faker"
   ]
  },
  {
   "cell_type": "code",
   "execution_count": 3,
   "metadata": {},
   "outputs": [
    {
     "name": "stdout",
     "output_type": "stream",
     "text": [
      "Melissa Ortega\n",
      "663 Ashley Fall\n",
      "New Catherineshire, TX 69901\n",
      "joshua88@example.com\n",
      "407.536.6529x192\n",
      "Media planner\n",
      "Jackson and Sons\n",
      "Long board find analysis man hospital realize general. Any themselves case understand point strong brother.\n",
      "Language teacher term likely. Least poor to true doctor across officer.\n",
      "1957-01-23\n",
      "048-54-9516\n",
      "192.168.190.97\n",
      "https://www.stephens.biz/\n",
      "DarkGray\n",
      "Opera/9.62.(X11; Linux x86_64; ca-FR) Presto/2.9.186 Version/11.00\n",
      "2534795878561527\n",
      "08/27\n",
      "968\n",
      "Feel high thing respond kitchen let. Fill attorney mean.\n",
      "Paper money offer same interesting.\n",
      "teach-human-lose\n",
      "340f2d3a-65c1-4f90-aa4e-3ad915da8848\n",
      "television\n",
      "consider.txt\n",
      "/lawyer/general/capital/always.txt\n",
      "https://placekitten.com/368/643\n",
      "Scientist, product/process development\n",
      "72.454533\n",
      "-164.073786\n",
      "Williammouth\n",
      "Vietnam\n",
      "Vermont\n",
      "00684\n",
      "PLC\n",
      "Open-source bandwidth-monitored Graphical User Interface\n",
      "transform magnetic experiences\n",
      "Surveyor, minerals\n",
      "1764252738409\n",
      "978-1-83002-921-8\n",
      "0-465-74371-4\n",
      "0c:07:6a:05:a1:1b\n",
      "yA69fxH5T_+N\n"
     ]
    }
   ],
   "source": [
    "from faker import Faker\n",
    "\n",
    "fake = Faker()\n",
    "print(fake.name())\n",
    "print(fake.address())\n",
    "print(fake.email())\n",
    "print(fake.phone_number())\n",
    "print(fake.job())\n",
    "print(fake.company())\n",
    "print(fake.text())\n",
    "print(fake.date_of_birth(minimum_age=18, maximum_age=90))\n",
    "print(fake.ssn())\n",
    "print(fake.ipv4_private())\n",
    "print(fake.url())\n",
    "print(fake.color_name())\n",
    "print(fake.user_agent())\n",
    "print(fake.credit_card_number(card_type='mastercard'))\n",
    "print(fake.credit_card_expire())\n",
    "print(fake.credit_card_security_code(card_type='mastercard'))\n",
    "print(fake.paragraph())\n",
    "print(fake.sentence())\n",
    "print(fake.slug())\n",
    "print(fake.uuid4())\n",
    "print(fake.word())\n",
    "print(fake.file_name(extension='txt'))\n",
    "print(fake.file_path(depth=3, extension='txt'))\n",
    "print(fake.image_url())\n",
    "print(fake.job())\n",
    "print(fake.latitude())\n",
    "print(fake.longitude())\n",
    "print(fake.city())\n",
    "print(fake.country())\n",
    "print(fake.state())\n",
    "print(fake.zipcode())\n",
    "print(fake.company_suffix())\n",
    "print(fake.catch_phrase())\n",
    "print(fake.bs())\n",
    "print(fake.job())\n",
    "print(fake.ean(length=13))\n",
    "print(fake.isbn13(separator='-'))\n",
    "print(fake.isbn10(separator='-'))\n",
    "print(fake.mac_address())\n",
    "print(fake.password(length=12, special_chars=True, digits=True, upper_case=True, lower_case=True))\n",
    "\n"
   ]
  }
 ],
 "metadata": {
  "kernelspec": {
   "display_name": "Python 3",
   "language": "python",
   "name": "python3"
  },
  "language_info": {
   "codemirror_mode": {
    "name": "ipython",
    "version": 3
   },
   "file_extension": ".py",
   "mimetype": "text/x-python",
   "name": "python",
   "nbconvert_exporter": "python",
   "pygments_lexer": "ipython3",
   "version": "3.13.2"
  }
 },
 "nbformat": 4,
 "nbformat_minor": 2
}
