{
 "cells": [
  {
   "cell_type": "markdown",
   "metadata": {},
   "source": [
    "# Relógio Digital"
   ]
  },
  {
   "cell_type": "code",
   "execution_count": 2,
   "metadata": {},
   "outputs": [],
   "source": [
    "import tkinter as tk\n",
    "from time import strftime\n",
    "\n",
    "\n",
    "root = tk.Tk()\n",
    "root.title(\"Digital Clock\")\n",
    "\n",
    "clock_label = tk.Label(root,\n",
    "                       font=(\"calibri\", 40, \"bold\"),\n",
    "                       background=\"black\",\n",
    "                       foreground=\"white\")\n",
    "clock_label.pack(anchor=\"center\", fill=\"both\", expand=True)\n",
    "\n",
    "def update_time():\n",
    "    current_time = strftime(\"%H:%M:%S\")\n",
    "    clock_label.config(text=current_time)\n",
    "    clock_label.after(1000, update_time)  # Update every second\n",
    "\n",
    "update_time()\n",
    "root.mainloop()\n"
   ]
  }
 ],
 "metadata": {
  "kernelspec": {
   "display_name": "Python 3",
   "language": "python",
   "name": "python3"
  },
  "language_info": {
   "codemirror_mode": {
    "name": "ipython",
    "version": 3
   },
   "file_extension": ".py",
   "mimetype": "text/x-python",
   "name": "python",
   "nbconvert_exporter": "python",
   "pygments_lexer": "ipython3",
   "version": "3.13.2"
  }
 },
 "nbformat": 4,
 "nbformat_minor": 2
}
