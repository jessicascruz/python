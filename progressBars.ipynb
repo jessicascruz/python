{
 "cells": [
  {
   "cell_type": "markdown",
   "metadata": {},
   "source": [
    "# Barra de Progresso Aninhada"
   ]
  },
  {
   "cell_type": "code",
   "execution_count": 2,
   "metadata": {},
   "outputs": [
    {
     "name": "stdout",
     "output_type": "stream",
     "text": [
      "Progressing |████████████████████████████████████████| 15/15 [100%] in 1.5s (9.95/s) \n"
     ]
    }
   ],
   "source": [
    "from alive_progress import alive_bar\n",
    "import time\n",
    "\n",
    "outer_items = range(3)\n",
    "inner_items = range(5)\n",
    "\n",
    "with alive_bar(len(outer_items) * len(inner_items), title='Progressing', bar='smooth') as bar:\n",
    "    for _ in outer_items:\n",
    "        for _ in inner_items:\n",
    "            time.sleep(0.1)\n",
    "            bar()  # Update the outer progress bar\n"
   ]
  },
  {
   "cell_type": "markdown",
   "metadata": {},
   "source": [
    "# Barra de Progresso Simulando Download"
   ]
  },
  {
   "cell_type": "code",
   "execution_count": 3,
   "metadata": {},
   "outputs": [
    {
     "name": "stdout",
     "output_type": "stream",
     "text": [
      "Downloading |████████████████████████████████████████| 16/16 [100%] in 1.6s (9.95/s) \n"
     ]
    }
   ],
   "source": [
    "from alive_progress import alive_bar\n",
    "import time\n",
    "\n",
    "file_size = 1024  # Simulando o tamanho de um arquivo\n",
    "chunck_size = 64  # Simulando o tamanho de um bloco\n",
    "\n",
    "with alive_bar(file_size // chunck_size, title='Downloading', bar='smooth') as bar:\n",
    "    for _ in range(file_size // chunck_size):\n",
    "        time.sleep(0.1)  # Simulando o tempo de download\n",
    "        bar()  # Atualiza a barra de progresso\n"
   ]
  }
 ],
 "metadata": {
  "kernelspec": {
   "display_name": "Python 3",
   "language": "python",
   "name": "python3"
  },
  "language_info": {
   "codemirror_mode": {
    "name": "ipython",
    "version": 3
   },
   "file_extension": ".py",
   "mimetype": "text/x-python",
   "name": "python",
   "nbconvert_exporter": "python",
   "pygments_lexer": "ipython3",
   "version": "3.13.2"
  }
 },
 "nbformat": 4,
 "nbformat_minor": 2
}
