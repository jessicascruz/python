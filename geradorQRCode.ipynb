{
 "cells": [
  {
   "cell_type": "markdown",
   "metadata": {},
   "source": [
    "# Gerador de QR Code"
   ]
  },
  {
   "cell_type": "code",
   "execution_count": null,
   "metadata": {},
   "outputs": [],
   "source": [
    "# !pip install pyqrcode\n",
    "# !pip install pillow\n",
    "# !pip install pypng"
   ]
  },
  {
   "cell_type": "code",
   "execution_count": 17,
   "metadata": {},
   "outputs": [],
   "source": [
    "import pyqrcode\n",
    "from PIL import Image\n",
    "\n",
    "link = input(\"Cole o link que será convertido em QR code: \")\n",
    "qr_code = pyqrcode.create(link)\n",
    "# qr_code = pyqrcode.create(link, mode='binary', error='L', version=27, encoding='utf-8')\n",
    "\n",
    "# Cria o QR code a partir do link fornecido\n",
    "qr_code.png(\"arquivos/qrcode.png\", scale=8, module_color=[0, 0, 0, 128], background=[255, 255, 255, 255])\n",
    "Image.open(\"arquivos/qrcode.png\").show()\n",
    "# Exibe o QR code gerado"
   ]
  }
 ],
 "metadata": {
  "kernelspec": {
   "display_name": "Python 3",
   "language": "python",
   "name": "python3"
  },
  "language_info": {
   "codemirror_mode": {
    "name": "ipython",
    "version": 3
   },
   "file_extension": ".py",
   "mimetype": "text/x-python",
   "name": "python",
   "nbconvert_exporter": "python",
   "pygments_lexer": "ipython3",
   "version": "3.13.2"
  }
 },
 "nbformat": 4,
 "nbformat_minor": 2
}
