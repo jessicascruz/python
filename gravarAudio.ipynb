{
 "cells": [
  {
   "cell_type": "markdown",
   "metadata": {},
   "source": [
    "# Gravador de Áudio"
   ]
  },
  {
   "cell_type": "code",
   "execution_count": null,
   "metadata": {},
   "outputs": [],
   "source": [
    "# !pip install pyaudio wave"
   ]
  },
  {
   "cell_type": "code",
   "execution_count": 5,
   "metadata": {},
   "outputs": [],
   "source": [
    "import  pyaudio\n",
    "import wave\n",
    "\n",
    "# Captura informações do microfone\n",
    "audio = pyaudio.PyAudio()\n",
    "# Responsável por coletar as informações do áudio\n",
    "stream = audio.open(input = True,\n",
    "                    format = pyaudio.paInt16,\n",
    "                    channels = 1,\n",
    "                    rate = 44000,\n",
    "                    frames_per_buffer = 1024,)\n",
    "\n",
    "frames = []\n",
    "\n",
    "try:\n",
    "    while True:\n",
    "        bloco = stream.read(1024)\n",
    "        frames.append(bloco)\n",
    "except KeyboardInterrupt:\n",
    "    pass\n",
    "\n",
    "# Ctrl + C para parar a gravação\n",
    "\n",
    "stream.start_stream()\n",
    "stream.close()\n",
    "audio.terminate()\n",
    "\n",
    "arquivo_final = wave.open(\"arquivos/gravacao.wav\", \"wb\")\n",
    "arquivo_final.setnchannels(1)\n",
    "arquivo_final.setframerate(44000)\n",
    "arquivo_final.setsampwidth(audio.get_sample_size(pyaudio.paInt16))\n",
    "\n",
    "arquivo_final.writeframes(b\"\".join(frames))\n",
    "arquivo_final.close()\n"
   ]
  }
 ],
 "metadata": {
  "kernelspec": {
   "display_name": "Python 3",
   "language": "python",
   "name": "python3"
  },
  "language_info": {
   "codemirror_mode": {
    "name": "ipython",
    "version": 3
   },
   "file_extension": ".py",
   "mimetype": "text/x-python",
   "name": "python",
   "nbconvert_exporter": "python",
   "pygments_lexer": "ipython3",
   "version": "3.13.2"
  }
 },
 "nbformat": 4,
 "nbformat_minor": 2
}
